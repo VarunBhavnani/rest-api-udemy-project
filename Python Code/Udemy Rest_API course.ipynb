{
 "cells": [
  {
   "cell_type": "markdown",
   "metadata": {},
   "source": [
    "##### Class Inheritence"
   ]
  },
  {
   "cell_type": "code",
   "execution_count": 1,
   "metadata": {},
   "outputs": [],
   "source": [
    "class Device():\n",
    "    def __init__(self,name,connected_by):\n",
    "        self.name = name\n",
    "        self.connected_by = connected_by\n",
    "        self.connect = True\n",
    "    \n",
    "    def __str__(self):\n",
    "        return f'Device {self.name!r} ({self.connected_by})'\n",
    "    \n",
    "    def disconnect(self):\n",
    "        self.connect = False\n",
    "        print('Your device is disconnected')"
   ]
  },
  {
   "cell_type": "code",
   "execution_count": 2,
   "metadata": {},
   "outputs": [],
   "source": [
    "printer = Device(\"Printer\",\"USB\")"
   ]
  },
  {
   "cell_type": "code",
   "execution_count": 6,
   "metadata": {},
   "outputs": [
    {
     "name": "stdout",
     "output_type": "stream",
     "text": [
      "Printer\n",
      "USB\n",
      "True\n",
      "Your device is disconnected\n"
     ]
    }
   ],
   "source": [
    "print(printer.name)\n",
    "print(printer.connected_by)\n",
    "print(printer.connect)\n",
    "\n",
    "printer.disconnect()"
   ]
  },
  {
   "cell_type": "code",
   "execution_count": 7,
   "metadata": {},
   "outputs": [],
   "source": [
    "class Printer(Device):\n",
    "    def __init__(self, name, connected_by,capacity):\n",
    "        super().__init__(name, connected_by)\n",
    "        self.capacity = capacity\n",
    "        self.remaining = capacity\n",
    "        \n",
    "    def __str__(self):\n",
    "        return f\"{super().__str__()} ({self.remaining} pages remaining)\"\n",
    "    \n",
    "    def print(self,pages):\n",
    "        if not self.connect:\n",
    "            print(\"Your printer is not connected\")\n",
    "            return\n",
    "        print(f\"Printing {pages} pages\")\n",
    "        self.remaining -= pages"
   ]
  },
  {
   "cell_type": "code",
   "execution_count": 11,
   "metadata": {},
   "outputs": [
    {
     "name": "stdout",
     "output_type": "stream",
     "text": [
      "Printer XYZ\n",
      "USB\n",
      "True\n",
      "Printing 20 pages\n",
      "Device 'Printer XYZ' (USB) (15980 pages remaining)\n",
      "Your device is disconnected\n",
      "Your printer is not connected\n"
     ]
    }
   ],
   "source": [
    "printer = Printer(\"Printer XYZ\",\"USB\",16000)\n",
    "print(printer.name)\n",
    "print(printer.connected_by)\n",
    "print(printer.connect)\n",
    "\n",
    "printer.print(20)\n",
    "print(printer)\n",
    "\n",
    "printer.disconnect()\n",
    "\n",
    "printer.print(500)"
   ]
  },
  {
   "cell_type": "markdown",
   "metadata": {},
   "source": [
    "#### Class Composition"
   ]
  },
  {
   "cell_type": "code",
   "execution_count": 12,
   "metadata": {},
   "outputs": [],
   "source": [
    "class Bookshelf():\n",
    "    def __init__(self,*books):\n",
    "        self.books = books\n",
    "        \n",
    "    def __str__(self):\n",
    "        return f\"Bookshelf has {len(self.books)} books\""
   ]
  },
  {
   "cell_type": "code",
   "execution_count": 13,
   "metadata": {},
   "outputs": [],
   "source": [
    "class Book():\n",
    "    def __init__(self,name):\n",
    "        self.name = name\n",
    "    \n",
    "    def __str__(self):\n",
    "        return f\" Book ({self.name})\""
   ]
  },
  {
   "cell_type": "code",
   "execution_count": 14,
   "metadata": {},
   "outputs": [
    {
     "name": "stdout",
     "output_type": "stream",
     "text": [
      "Bookshelf has 2 books\n"
     ]
    }
   ],
   "source": [
    "bk1 = Book(\"Harry Potter\")\n",
    "bk2 = Book('GoT')\n",
    "\n",
    "varun_shelf = Bookshelf(bk1,bk2)\n",
    "\n",
    "print(varun_shelf)"
   ]
  },
  {
   "cell_type": "markdown",
   "metadata": {},
   "source": [
    "##### Error Exception Handling"
   ]
  },
  {
   "cell_type": "code",
   "execution_count": 4,
   "metadata": {},
   "outputs": [],
   "source": [
    "def division(a:int,b:int)-> float:\n",
    "    try:\n",
    "        x = a/b\n",
    "        return x\n",
    "    except ZeroDivisionError:\n",
    "        print('You cannot devide by zero')"
   ]
  },
  {
   "cell_type": "code",
   "execution_count": 5,
   "metadata": {},
   "outputs": [
    {
     "name": "stdout",
     "output_type": "stream",
     "text": [
      "You cannot devide by zero\n"
     ]
    }
   ],
   "source": [
    "division(100,0)"
   ]
  },
  {
   "cell_type": "code",
   "execution_count": 21,
   "metadata": {},
   "outputs": [],
   "source": [
    "\n",
    "def division(a,b):\n",
    "    try:\n",
    "        example = round(a/b,2)\n",
    "    except ZeroDivisionError as e:\n",
    "        print('Error:',e)\n",
    "\n",
    "    else:\n",
    "        print(\"The division of given two numbers is :\", example)\n",
    "\n",
    "    finally:\n",
    "        print('Thanks for trying!')\n"
   ]
  },
  {
   "cell_type": "code",
   "execution_count": 22,
   "metadata": {},
   "outputs": [
    {
     "name": "stdout",
     "output_type": "stream",
     "text": [
      "Error: division by zero\n",
      "Thanks for trying!\n"
     ]
    }
   ],
   "source": [
    "division(100,0)"
   ]
  },
  {
   "cell_type": "markdown",
   "metadata": {},
   "source": [
    "### Custom Error class"
   ]
  },
  {
   "cell_type": "code",
   "execution_count": 21,
   "metadata": {},
   "outputs": [],
   "source": [
    "class PageCountError(ValueError):\n",
    "    pass\n",
    "\n",
    "class Books():\n",
    "    def __init__(self, name: str, page_count: int):\n",
    "        self.name = name\n",
    "        self.page_count = page_count\n",
    "        self.pages_read = 0\n",
    "        \n",
    "    def __repr__(self):\n",
    "        return (\n",
    "            f\"Book {self.name}, pages read {self.pages_read} out of {self.page_count} \"\n",
    "        )\n",
    "    \n",
    "    def read(self,pages: int):\n",
    "        if self.pages_read + pages > self.page_count:\n",
    "            raise PageCountError(\n",
    "                f\" You tried to read {self.pages_read + pages}, but this book has only {self.page_count} pages \"\n",
    "            )\n",
    "        self.pages_read += pages\n",
    "        print(f\"You have now read {self.pages_read} pages out of {self.page_count}\")"
   ]
  },
  {
   "cell_type": "code",
   "execution_count": 22,
   "metadata": {},
   "outputs": [
    {
     "data": {
      "text/plain": [
       "'Book Atomic Habit, pages read 0 out of 500 '"
      ]
     },
     "execution_count": 22,
     "metadata": {},
     "output_type": "execute_result"
    }
   ],
   "source": [
    "book1 = Books('Atomic Habit', 500)\n",
    "\n",
    "book1.__repr__()"
   ]
  },
  {
   "cell_type": "code",
   "execution_count": 23,
   "metadata": {},
   "outputs": [
    {
     "name": "stdout",
     "output_type": "stream",
     "text": [
      "You have now read 200 pages out of 500\n"
     ]
    }
   ],
   "source": [
    "book1.read(200)"
   ]
  },
  {
   "cell_type": "code",
   "execution_count": 24,
   "metadata": {},
   "outputs": [
    {
     "ename": "PageCountError",
     "evalue": " You tried to read 1200, but this book has only 500 pages ",
     "output_type": "error",
     "traceback": [
      "\u001b[0;31m---------------------------------------------------------------------------\u001b[0m",
      "\u001b[0;31mPageCountError\u001b[0m                            Traceback (most recent call last)",
      "Cell \u001b[0;32mIn[24], line 1\u001b[0m\n\u001b[0;32m----> 1\u001b[0m \u001b[43mbook1\u001b[49m\u001b[38;5;241;43m.\u001b[39;49m\u001b[43mread\u001b[49m\u001b[43m(\u001b[49m\u001b[38;5;241;43m1000\u001b[39;49m\u001b[43m)\u001b[49m\n",
      "Cell \u001b[0;32mIn[21], line 17\u001b[0m, in \u001b[0;36mBooks.read\u001b[0;34m(self, pages)\u001b[0m\n\u001b[1;32m     15\u001b[0m \u001b[38;5;28;01mdef\u001b[39;00m \u001b[38;5;21mread\u001b[39m(\u001b[38;5;28mself\u001b[39m,pages: \u001b[38;5;28mint\u001b[39m):\n\u001b[1;32m     16\u001b[0m     \u001b[38;5;28;01mif\u001b[39;00m \u001b[38;5;28mself\u001b[39m\u001b[38;5;241m.\u001b[39mpages_read \u001b[38;5;241m+\u001b[39m pages \u001b[38;5;241m>\u001b[39m \u001b[38;5;28mself\u001b[39m\u001b[38;5;241m.\u001b[39mpage_count:\n\u001b[0;32m---> 17\u001b[0m         \u001b[38;5;28;01mraise\u001b[39;00m PageCountError(\n\u001b[1;32m     18\u001b[0m             \u001b[38;5;124mf\u001b[39m\u001b[38;5;124m\"\u001b[39m\u001b[38;5;124m You tried to read \u001b[39m\u001b[38;5;132;01m{\u001b[39;00m\u001b[38;5;28mself\u001b[39m\u001b[38;5;241m.\u001b[39mpages_read \u001b[38;5;241m+\u001b[39m pages\u001b[38;5;132;01m}\u001b[39;00m\u001b[38;5;124m, but this book has only \u001b[39m\u001b[38;5;132;01m{\u001b[39;00m\u001b[38;5;28mself\u001b[39m\u001b[38;5;241m.\u001b[39mpage_count\u001b[38;5;132;01m}\u001b[39;00m\u001b[38;5;124m pages \u001b[39m\u001b[38;5;124m\"\u001b[39m\n\u001b[1;32m     19\u001b[0m         )\n\u001b[1;32m     20\u001b[0m     \u001b[38;5;28mself\u001b[39m\u001b[38;5;241m.\u001b[39mpages_read \u001b[38;5;241m+\u001b[39m\u001b[38;5;241m=\u001b[39m pages\n\u001b[1;32m     21\u001b[0m     \u001b[38;5;28mprint\u001b[39m(\u001b[38;5;124mf\u001b[39m\u001b[38;5;124m\"\u001b[39m\u001b[38;5;124mYou have now read \u001b[39m\u001b[38;5;132;01m{\u001b[39;00m\u001b[38;5;28mself\u001b[39m\u001b[38;5;241m.\u001b[39mpages_read\u001b[38;5;132;01m}\u001b[39;00m\u001b[38;5;124m pages out of \u001b[39m\u001b[38;5;132;01m{\u001b[39;00m\u001b[38;5;28mself\u001b[39m\u001b[38;5;241m.\u001b[39mpage_count\u001b[38;5;132;01m}\u001b[39;00m\u001b[38;5;124m\"\u001b[39m)\n",
      "\u001b[0;31mPageCountError\u001b[0m:  You tried to read 1200, but this book has only 500 pages "
     ]
    }
   ],
   "source": [
    "book1.read(1000)"
   ]
  },
  {
   "cell_type": "markdown",
   "metadata": {},
   "source": [
    "### First class function"
   ]
  },
  {
   "cell_type": "code",
   "execution_count": 26,
   "metadata": {},
   "outputs": [],
   "source": [
    "def search(sequence, expected,finder):\n",
    "    for elem in sequence:\n",
    "        if finder(elem) == expected:\n",
    "            return elem\n",
    "    raise RuntimeError(\"Could not find the element\")\n",
    "\n",
    "friends = [\n",
    "    {'name': 'Aarsh','age': 27},\n",
    "    {'name': 'Ajay', 'age': 27},\n",
    "    {'name': 'Saksham', 'age': 34},\n",
    "]"
   ]
  },
  {
   "cell_type": "code",
   "execution_count": 28,
   "metadata": {},
   "outputs": [
    {
     "data": {
      "text/plain": [
       "{'name': 'Aarsh', 'age': 27}"
      ]
     },
     "execution_count": 28,
     "metadata": {},
     "output_type": "execute_result"
    }
   ],
   "source": [
    "search(friends,'Aarsh', lambda x: x['name'])"
   ]
  },
  {
   "cell_type": "markdown",
   "metadata": {},
   "source": [
    "### Decorator function"
   ]
  },
  {
   "cell_type": "code",
   "execution_count": 54,
   "metadata": {},
   "outputs": [],
   "source": [
    "import functools\n",
    "\n",
    "def make_secure(func):\n",
    "    @functools.wraps(func)\n",
    "    def secure_func():\n",
    "        if user['access_level'] == 'admin':\n",
    "            return func()\n",
    "        else:\n",
    "            return f'No admin access right'\n",
    "    return secure_func "
   ]
  },
  {
   "cell_type": "code",
   "execution_count": 55,
   "metadata": {},
   "outputs": [],
   "source": [
    "@make_secure\n",
    "def get_admin_password():\n",
    "    return \"12345\""
   ]
  },
  {
   "cell_type": "code",
   "execution_count": 56,
   "metadata": {},
   "outputs": [
    {
     "data": {
      "text/plain": [
       "'No admin access right'"
      ]
     },
     "execution_count": 56,
     "metadata": {},
     "output_type": "execute_result"
    }
   ],
   "source": [
    "user = {'name':'Jose', 'access_level': 'gues'}\n",
    "\n",
    "get_admin_password()"
   ]
  },
  {
   "cell_type": "code",
   "execution_count": 57,
   "metadata": {},
   "outputs": [
    {
     "name": "stdout",
     "output_type": "stream",
     "text": [
      "get_admin_password\n"
     ]
    }
   ],
   "source": [
    "print(get_admin_password.__name__)"
   ]
  }
 ],
 "metadata": {
  "kernelspec": {
   "display_name": "base",
   "language": "python",
   "name": "python3"
  },
  "language_info": {
   "codemirror_mode": {
    "name": "ipython",
    "version": 3
   },
   "file_extension": ".py",
   "mimetype": "text/x-python",
   "name": "python",
   "nbconvert_exporter": "python",
   "pygments_lexer": "ipython3",
   "version": "3.10.9"
  }
 },
 "nbformat": 4,
 "nbformat_minor": 2
}
